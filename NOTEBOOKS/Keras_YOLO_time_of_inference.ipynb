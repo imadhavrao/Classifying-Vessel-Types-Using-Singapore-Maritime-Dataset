{
 "cells": [
  {
   "cell_type": "markdown",
   "metadata": {},
   "source": [
    "# Inference time of Keras YOLO v2 models\n",
    "\n",
    "This notebook calculates the average inference time per image for the Keras YOLO v2 models. This notebook should be run from inside the [root folder](https://github.com/experiencor/keras-yolo2) of the Keras YOLO git project. Also, the respective back-end, configuration file and trained model should also be placed in the same folder."
   ]
  },
  {
   "cell_type": "code",
   "execution_count": null,
   "metadata": {},
   "outputs": [],
   "source": [
    "import argparse\n",
    "import os\n",
    "import cv2\n",
    "import numpy as np\n",
    "from tqdm import tqdm\n",
    "from preprocessing import parse_annotation\n",
    "from utils import draw_boxes\n",
    "from frontend import YOLO\n",
    "import json\n",
    "import time\n",
    "import tensorflow as tf"
   ]
  },
  {
   "cell_type": "code",
   "execution_count": null,
   "metadata": {},
   "outputs": [],
   "source": [
    "os.environ[\"CUDA_DEVICE_ORDER\"]=\"PCI_BUS_ID\"\n",
    "os.environ[\"CUDA_VISIBLE_DEVICES\"]=\"0\""
   ]
  },
  {
   "cell_type": "code",
   "execution_count": null,
   "metadata": {},
   "outputs": [],
   "source": [
    "# TensorFlow wizardry\n",
    "config = tf.ConfigProto()\n",
    " \n",
    "# Don't pre-allocate memory; allocate as-needed\n",
    "config.gpu_options.allow_growth = True\n",
    " \n",
    "# Only allow a total of half the GPU memory to be allocated\n",
    "#config.gpu_options.per_process_gpu_memory_fraction = 0.5\n",
    " \n",
    "# Create a session with the above options specified.\n",
    "tf.keras.backend.set_session(tf.Session(config=config))\n",
    "#keras.backend.tensorflow_backend.set_session(tf.Session(config=config))"
   ]
  },
  {
   "cell_type": "markdown",
   "metadata": {},
   "source": [
    "Set/adjust the parameters required."
   ]
  },
  {
   "cell_type": "code",
   "execution_count": null,
   "metadata": {},
   "outputs": [],
   "source": [
    "config_path = './config_tiny_yolo.json'\n",
    "weights_path = './tiny_yolo_singapore_dataset.h5'\n",
    "input_folder = '/home/tbontz2s/git/tensorflow/workspace/training_demo/images/test'"
   ]
  },
  {
   "cell_type": "code",
   "execution_count": null,
   "metadata": {},
   "outputs": [],
   "source": [
    "with open(config_path) as config_buffer:    \n",
    "    config = json.load(config_buffer)\n",
    "\n",
    "###############################\n",
    "#   Make the model \n",
    "###############################\n",
    "\n",
    "yolo = YOLO(backend             = config['model']['backend'],\n",
    "            input_size          = config['model']['input_size'], \n",
    "            labels              = config['model']['labels'], \n",
    "            max_box_per_image   = config['model']['max_box_per_image'],\n",
    "            anchors             = config['model']['anchors'])\n",
    "\n",
    "###############################\n",
    "#   Load trained weights\n",
    "###############################    \n",
    "\n",
    "yolo.load_weights(weights_path)"
   ]
  },
  {
   "cell_type": "markdown",
   "metadata": {},
   "source": [
    "Find all the images to be used for testing."
   ]
  },
  {
   "cell_type": "code",
   "execution_count": null,
   "metadata": {},
   "outputs": [],
   "source": [
    "images = [os.path.join(input_folder, img) for img in sorted(os.listdir(input_folder))]\n",
    "\n",
    "\n",
    "# select only the first 10 images for testing time\n",
    "images= images[:10]\n",
    "\n",
    "print(images[:3])"
   ]
  },
  {
   "cell_type": "markdown",
   "metadata": {},
   "source": [
    "Usually the first image is inferred slower since it build the Network. For this reason it is excluded for correct results. This cell print both averages with first inference time included and excluded but the more correct version is the second."
   ]
  },
  {
   "cell_type": "code",
   "execution_count": 7,
   "metadata": {
    "scrolled": true
   },
   "outputs": [
    {
     "name": "stdout",
     "output_type": "stream",
     "text": [
      "Average time in seconds per image:  0.1643756628036499\n",
      "Average milliseconds per image:  164.4\n",
      "Time:  1.643756628036499\n",
      "Average time based on numpy array:  0.13391001224517823\n",
      "Frames per second:  7.467701505165142\n",
      "Average time based on numpy array:  0.02917223506503635\n",
      "Frames per second:  34.279169826055764\n"
     ]
    }
   ],
   "source": [
    "times = np.zeros([len(images)])\n",
    "\n",
    "for i, img in enumerate(images):\n",
    "    image = cv2.imread(img)\n",
    "    start1 = time.time()\n",
    "    boxes = yolo.predict(image)\n",
    "    end1 = time.time()\n",
    "    #times.append(end1-start1)\n",
    "    times[i] = end1 - start1\n",
    "    #image = draw_boxes(image, boxes, config['model']['labels'])\n",
    "\n",
    "    #print(len(boxes), 'boxes are found')    \n",
    "\n",
    "    #cv2.imwrite(os.path.join(output_folder, img.split('/')[-1]), image)\n",
    "    \n",
    "\n",
    "# print average time based on the numpy array\n",
    "print(\"Average time based on numpy array: \", np.mean(times))\n",
    "print(\"Frames per second: \", 1 / np.mean(times))\n",
    "\n",
    "# print average time based on the numpy array ignore first image that is slow\n",
    "print(\"Average time based on numpy array: \", np.mean(times[1:]))\n",
    "print(\"Frames per second: \", 1 / np.mean(times[1:]))"
   ]
  },
  {
   "cell_type": "code",
   "execution_count": null,
   "metadata": {},
   "outputs": [],
   "source": []
  }
 ],
 "metadata": {
  "kernelspec": {
   "display_name": "Python 3",
   "language": "python",
   "name": "python3"
  },
  "language_info": {
   "codemirror_mode": {
    "name": "ipython",
    "version": 3
   },
   "file_extension": ".py",
   "mimetype": "text/x-python",
   "name": "python",
   "nbconvert_exporter": "python",
   "pygments_lexer": "ipython3",
   "version": "3.6.8"
  }
 },
 "nbformat": 4,
 "nbformat_minor": 2
}
